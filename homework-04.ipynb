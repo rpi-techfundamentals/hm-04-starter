{
 "cells": [
  {
   "cell_type": "markdown",
   "metadata": {},
   "source": [
    "## Introduction to Python Exercises\n",
    "\n",
    "Before you turn this problem in, make sure everything runs as expected. First, restart the kernel (in the menubar, select Kernel → Restart) and then run all cells (in the menubar, select Cell → Run All).  You can speak with others regarding the assignment but all work must be your own. \n",
    "\n",
    "\n",
    "### This is a 30 point assignment graded from answers to questions and automated tests that should be run at the bottom. Be sure to clearly label all of your answers and commit final tests at the end. If you attempt to fake passing the tests you will receive a 0 on the assignment and it will be considered an ethical violation. (Note, not all questions have tests).\n"
   ]
  },
  {
   "cell_type": "code",
   "execution_count": null,
   "metadata": {},
   "outputs": [],
   "source": [
    "NAME = \"Jason Kuruzovich\"\n",
    "COLLABORATORS = \"Alyssa Hacker\"  #You can speak with others regarding the assignment, but all typed work must be your own."
   ]
  },
  {
   "cell_type": "markdown",
   "metadata": {},
   "source": [
    "## Exercise-Twitter API\n",
    "\n",
    "(1) Describe what an API is and what importance Twitter's API is. "
   ]
  },
  {
   "cell_type": "code",
   "execution_count": null,
   "metadata": {},
   "outputs": [],
   "source": [
    "q1_question= \"\"\"\n",
    "1) Describe what an API is and what importance Twitter's API is.\n",
    "\"\"\"\n",
    "q1_answer=\"\"\"\n",
    "Enter your answer here.\n",
    "\"\"\""
   ]
  },
  {
   "cell_type": "markdown",
   "metadata": {},
   "source": [
    "## Exercise-Twitter API\n",
    "\n",
    "(2) Using code from the course repository involving the Twitter API, download the profile for the following users: tensorflow, DeepLearningHub, your TwitterID.\n",
    "\n",
    "Here is a set-by-step that should help. <br>\n",
    "\n",
    "**Before you begin, make sure you follow instructions from class to create your Twitter application and can run the example twitter notebook using your configuration**\n",
    "\n",
    "(a) Take the necessary functions from the notebook and move them to a module.<br>\n",
    "(b) Confirm that the existing code works with your modules. <br>\n",
    "(c) Copy the module file into this directory. <br>\n",
    "(d) Copy the module import statement and other code necessary to call the twitter API to this notebook. <br>\n",
    "(e) Add your twitterid name to the list of profiles in (screen_names.csv). <br>\n",
    "(f) Copy over your configuration file to twitter/config.yaml <br>\n",
    "(g) Use your code and generate a json file in /data/profiles/<date>-user-profiles.json.  This will be tested later. <br>\n",
    "(h) Set your filename below. \n",
    "\n"
   ]
  },
  {
   "cell_type": "code",
   "execution_count": null,
   "metadata": {},
   "outputs": [],
   "source": [
    "#Update this for your filename replacing ? with actual numbers.\n",
    "twitterfilename= '2018-??-??-user-profiles.json'"
   ]
  },
  {
   "cell_type": "markdown",
   "metadata": {},
   "source": [
    "## Exercise - Seaborn\n",
    "(3) Create the following figure using the Titanic dataset (included with Seaborn).  \n",
    "![](./fig/hm4-1.png)\n",
    "\n"
   ]
  },
  {
   "cell_type": "code",
   "execution_count": null,
   "metadata": {},
   "outputs": [],
   "source": [
    "#answer for #3"
   ]
  },
  {
   "cell_type": "code",
   "execution_count": null,
   "metadata": {},
   "outputs": [],
   "source": [
    "q3b_answer=\"\"\"\n",
    "Interpret the above graph here.\n",
    "\"\"\""
   ]
  },
  {
   "cell_type": "markdown",
   "metadata": {},
   "source": [
    "(4a) Create the following figure using the Titanic dataset (included with Seaborn). \n",
    "![](./fig/hm4-2.png)\n",
    "\n"
   ]
  },
  {
   "cell_type": "code",
   "execution_count": null,
   "metadata": {},
   "outputs": [],
   "source": [
    "#answer for #4"
   ]
  },
  {
   "cell_type": "code",
   "execution_count": null,
   "metadata": {},
   "outputs": [],
   "source": [
    "q4b_answer=\"\"\"\n",
    "Interpret the above graph here.\n",
    "\"\"\""
   ]
  },
  {
   "cell_type": "markdown",
   "metadata": {},
   "source": [
    "(5a) Create the following figure using the Titanic dataset (included with Seaborn). \n",
    "![](./fig/hm4-3.png)\n",
    "\n",
    "\n",
    "\n"
   ]
  },
  {
   "cell_type": "code",
   "execution_count": null,
   "metadata": {},
   "outputs": [],
   "source": [
    "#answer for number 5"
   ]
  },
  {
   "cell_type": "code",
   "execution_count": null,
   "metadata": {},
   "outputs": [],
   "source": [
    "q5b_answer=\"\"\"\n",
    "Interpret the above graph here.\n",
    "\"\"\""
   ]
  },
  {
   "cell_type": "markdown",
   "metadata": {},
   "source": [
    "(6b) Create the following figure using the Titanic dataset (included with Seaborn). \n",
    "![](./fig/hm4-4.png)\n",
    "\n"
   ]
  },
  {
   "cell_type": "code",
   "execution_count": null,
   "metadata": {},
   "outputs": [],
   "source": [
    "#answer for number 6"
   ]
  },
  {
   "cell_type": "code",
   "execution_count": null,
   "metadata": {},
   "outputs": [],
   "source": [
    "q6b_answer=\"\"\"\n",
    "Interpret the above graph here.\n",
    "\"\"\""
   ]
  },
  {
   "cell_type": "markdown",
   "metadata": {},
   "source": [
    "## Exercise-Beautiful Soup\n",
    "Imagine you would like to write a simple python script that pulls in data from https://webrobots.io/kickstarter-datasets/.  To do that, we would have to get all the links.  Here is some starter code that will download the url into a soup object. \n",
    "\n"
   ]
  },
  {
   "cell_type": "code",
   "execution_count": null,
   "metadata": {},
   "outputs": [],
   "source": [
    "#This will pull the data\n",
    "from bs4 import BeautifulSoup\n",
    "import requests\n",
    "response = requests.get(\"https://webrobots.io/kickstarter-datasets/\")\n",
    "html_doc = response.text\n",
    "soup = BeautifulSoup(html_doc, 'html.parser')\n",
    "print(soup.prettify())\n",
    " \n"
   ]
  },
  {
   "cell_type": "markdown",
   "metadata": {},
   "source": [
    "### (7) Describe where in the html the links occur. "
   ]
  },
  {
   "cell_type": "code",
   "execution_count": null,
   "metadata": {},
   "outputs": [],
   "source": [
    "q7_answer=\"\"\"\n",
    "put your answer here. \n",
    "\"\"\""
   ]
  },
  {
   "cell_type": "markdown",
   "metadata": {},
   "source": [
    "(8) Before we try to get the links, lets make sure we can parse the web page. Set the value of the variable `page_title` equal to the contents inside the <title> </title> tag.  The title tag should not be included. \n",
    "\n"
   ]
  },
  {
   "cell_type": "code",
   "execution_count": null,
   "metadata": {},
   "outputs": [],
   "source": [
    "#Answer 8 here. "
   ]
  },
  {
   "cell_type": "markdown",
   "metadata": {},
   "source": [
    "\n",
    "(9) The code below will pull out the text for one of the links. Could you create a list called `newlist` that pulls in the link for all of the files. [Hint: use a for loop to process all of the links.]\n",
    "\n",
    "```\n",
    "import re #This is the regular expressions. \n",
    "links = re.findall('https://s3.amazonaws.com/weruns/forfun/Kickstarter.*\\.zip', html_doc) #This is the pattern we want\n",
    "x=links[0]  #here we are setting the value equal to the first link. \n",
    "print(x[117:208])  #Here we are parsing the string using the relevant position. \n",
    "\n",
    "```\n",
    "\n",
    "\n"
   ]
  },
  {
   "cell_type": "code",
   "execution_count": null,
   "metadata": {},
   "outputs": [],
   "source": [
    "#Answer 9 here. "
   ]
  },
  {
   "cell_type": "markdown",
   "metadata": {},
   "source": [
    "### Regular Expressions\n",
    "\n",
    "Did you know you just used regular expressions? This is a useful way of parsing through string data. \n",
    "\n",
    "(10) There are a lot of things that we can do with regular expressions.  For the input `text`, please complete the following transformations. \n",
    "\n",
    "- Change `text` to lower case.\n",
    "- Remove all emails and substitute them with '--'\n",
    "- Remove all digits and replace with *. \n",
    "- Split the lines and put them into a list called `textlines`.\n",
    "\n",
    "The resulting list should be:\n",
    "```\n",
    "['the test score is ** with the email -- for mgmt*****.',\n",
    " 'the test score is ** with the email -- for mgmt*****.']\n",
    "```\n",
    "\n"
   ]
  },
  {
   "cell_type": "code",
   "execution_count": null,
   "metadata": {},
   "outputs": [],
   "source": [
    "import re\n",
    "text=\"\"\"The test score is 85 with the email john@rpi.edu for MGMT33223.\n",
    "The test score is 83 with the email jim@rpi.edu for MGMT33223.\n",
    "\"\"\"\n",
    "# Multiple steps\n",
    "#\n",
    "#\n",
    "textlines="
   ]
  },
  {
   "cell_type": "markdown",
   "metadata": {},
   "source": [
    "### This Loads a Testing Array \n",
    "- This runs tests against your b array.  If you complete the assingment correctly, you will pass the tests. \n",
    "- **If you attempt to fake passing the tests you will receive a 0 on the assignment and it will be considered an ethical violation.**"
   ]
  },
  {
   "cell_type": "code",
   "execution_count": null,
   "metadata": {},
   "outputs": [],
   "source": [
    "#Output your answers\n",
    "answers= [q1_question, q1_answer, q3b_answer, q4b_answer, q5b_answer, q6b_answer, q7_answer]\n",
    "with open('answers.txt', 'w') as outfile:   #The \"with\" incorporates an open and close of file. \n",
    "    outfile.write(\"\\n\".join(answers))"
   ]
  },
  {
   "cell_type": "code",
   "execution_count": null,
   "metadata": {},
   "outputs": [],
   "source": [
    "#!conda install -c conda-forge --yes ipython_unittest \n",
    "#if you didn't install last time. "
   ]
  },
  {
   "cell_type": "code",
   "execution_count": null,
   "metadata": {},
   "outputs": [],
   "source": [
    "%load_ext ipython_unittest\n",
    "#this enables running tests."
   ]
  },
  {
   "cell_type": "code",
   "execution_count": null,
   "metadata": {},
   "outputs": [],
   "source": [
    "#This processes some of your files for use in the tests. \n",
    "\n",
    "path='data/profiles/user-profiles.json'\n",
    "names=[]\n",
    "urls=[]\n",
    "\n",
    "import json   #This imports the JSON\n",
    "from pprint import pprint  #This will print the file in a nested way. \n",
    "\n",
    "with open(path) as data_file:   #The \"with\" incorporates an open and close of file.   \n",
    "    for line in data_file:\n",
    " #       print(line)\n",
    "        j = json.loads(line)\n",
    "        names.append(j['name'])\n",
    "        urls.append(j['url'])\n",
    "\n",
    "pprint(j) #Pretty printing (pprint) makes it easier to see the nesting of the files. \n",
    "\n"
   ]
  },
  {
   "cell_type": "code",
   "execution_count": null,
   "metadata": {},
   "outputs": [],
   "source": [
    "%%unittest_main\n",
    "class TestHm4(unittest.TestCase):\n",
    "    def test_twitter1(self):\n",
    "        self.assertEqual((urls[0]), \"https://t.co/gxgTGHp5yO\")\n",
    "    def test_twitter2(self):\n",
    "        self.assertEqual(names[1], \"Deep Learning Hub\")\n",
    "    def test_twitter3(self):\n",
    "        self.assertEqual(len(names), 3)\n",
    "    def test_soup1(self):\n",
    "        self.assertEqual(page_title, \"Kickstarter Datasets – Web Scraping Service\")\n",
    "    def test_soup2(self):\n",
    "        self.assertEqual(newlist[5][0:65], 'https://s3.amazonaws.com/weruns/forfun/Kickstarter/Kickstarter_20')\n",
    "    def test_regexpress(self):\n",
    "        self.assertEqual(textlines[0], 'the test score is ** with the email -- for mgmt*****.')\n",
    "\n",
    "\n"
   ]
  }
 ],
 "metadata": {
  "anaconda-cloud": {},
  "celltoolbar": "Slideshow",
  "kernelspec": {
   "display_name": "Python 3",
   "language": "python",
   "name": "python3"
  },
  "language_info": {
   "codemirror_mode": {
    "name": "ipython",
    "version": 3
   },
   "file_extension": ".py",
   "mimetype": "text/x-python",
   "name": "python",
   "nbconvert_exporter": "python",
   "pygments_lexer": "ipython3",
   "version": "3.6.3"
  }
 },
 "nbformat": 4,
 "nbformat_minor": 2
}
