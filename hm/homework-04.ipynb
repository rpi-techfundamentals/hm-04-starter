{
 "cells": [
  {
   "cell_type": "markdown",
   "metadata": {},
   "source": [
    "## Introduction to Python Exercises\n",
    "\n",
    "Before you turn this problem in, make sure everything runs as expected. First, restart the kernel (in the menubar, select Kernel → Restart) and then run all cells (in the menubar, select Cell → Run All).  You can speak with others regarding the assignment but all work must be your own. \n",
    "\n",
    "\n",
    "### This is a 30 point assignment graded from answers to questions and automated tests that should be run at the bottom. Be sure to clearly label all of your answers and commit final tests at the end. If you attempt to fake passing the tests you will receive a 0 on the assignment and it will be considered an ethical violation. (Note, not all questions have tests).\n"
   ]
  },
  {
   "cell_type": "code",
   "execution_count": 1,
   "metadata": {
    "collapsed": true
   },
   "outputs": [],
   "source": [
    "NAME = \"Jason Kuruzovich\"\n",
    "COLLABORATORS = [\"Alyssa Hacker\"]  #You can speak with others regarding the assignment, but all typed work must be your own."
   ]
  },
  {
   "cell_type": "code",
   "execution_count": null,
   "metadata": {
    "collapsed": true
   },
   "outputs": [],
   "source": [
    "# If you have trouble loading your unittests below, \n",
    "#!conda config --add channels conda-forge"
   ]
  },
  {
   "cell_type": "code",
   "execution_count": null,
   "metadata": {
    "collapsed": true
   },
   "outputs": [],
   "source": [
    "#!conda install --quiet ipython_unittest"
   ]
  },
  {
   "cell_type": "markdown",
   "metadata": {},
   "source": [
    "### This Loads a Testing Array \n",
    "- This runs tests against your b array.  If you complete the assingment correctly, you will pass the tests. \n",
    "- **If you attempt to fake passing the tests you will receive a 0 on the assignment and it will be considered an ethical violation.**"
   ]
  },
  {
   "cell_type": "code",
   "execution_count": 1,
   "metadata": {
    "collapsed": true
   },
   "outputs": [],
   "source": [
    "%load_ext ipython_unittest\n",
    "#This runs tests against your b array.  If you complete the assingment correctly, you will pass the tests. "
   ]
  },
  {
   "cell_type": "markdown",
   "metadata": {},
   "source": [
    "## Exercise-Beautiful Soup\n",
    "\n",
    "(1) Imagine you would like to write a simple python script that pulls the due dates from the course web page [http://rpi.analyticsdojo.com/mgmt6560/schedule/](http://rpi.analyticsdojo.com/mgmt6560/schedule/).  \n",
    "\n",
    "You should examine the HTML and see if there is a unique tag around the data that can help.  Your output should be such that:\n",
    "print(result[0:4]) results in the following list:\n",
    "\n",
    "```\n",
    "[<em>Homework 1 Released (Due 9-20)</em>,\n",
    " <em>Homework 2 Released (Due 9-30)</em>,\n",
    " <em>Homework 3 Released (Due 10-5)</em>,\n",
    " <em>Homework 4 (Available 10-4; Due 10-12).</em>]\n",
    "\n",
    "```\n",
    "Hint: This shows you what the tag you need to look for is!\n",
    "\n",
    " \n"
   ]
  },
  {
   "cell_type": "markdown",
   "metadata": {},
   "source": [
    "## Exercise-Twitter API\n",
    "(2) Using the existing code in the examples for the Twitter API to download the profile for the following users: tensorflow, DeepLearningHub, your TwitterID.\n",
    "\n",
    "Once you have downloaded the profiles your should fill in the filename below and run the cell below.  This will parse your file and prepare the variables that will be tested."
   ]
  },
  {
   "cell_type": "code",
   "execution_count": 18,
   "metadata": {},
   "outputs": [
    {
     "name": "stdout",
     "output_type": "stream",
     "text": [
      "['TensorFlow', 'Deep Learning Hub'] ['https://t.co/gxgTGHp5yO', 'https://t.co/fKXpPW5IVI']\n",
      "2\n"
     ]
    }
   ],
   "source": [
    "#set your filename\n",
    "filename='2017-10-03-user-profiles.json'\n",
    "path='data/profiles/'+filename\n",
    "names=[]\n",
    "urls=[]\n",
    "\n",
    "import json   #This imports the JSON\n",
    "from pprint import pprint  #This will print the file in a nested way. \n",
    "\n",
    "with open(path) as data_file:   #The \"with\" incorporates an open and close of file.   \n",
    "    for line in data_file:\n",
    " #       print(line)\n",
    "        j = json.loads(line)\n",
    "        names.append(j['name'])\n",
    "        urls.append(j['url'])\n",
    "\n",
    "#pprint(j) #Pretty printing (pprint) makes it easier to see the nesting of the files. \n"
   ]
  },
  {
   "cell_type": "markdown",
   "metadata": {},
   "source": [
    "## Exercise - Seaborn\n",
    "(3) Create the following figure using the Titanic dataset (included with Seaborn).  \n",
    "![](./fig/hm4-1.png)\n",
    "\n",
    "(4) Create the following figure using the Titanic dataset (included with Seaborn). \n",
    "![](./fig/hm4-2.png)\n",
    "\n",
    "(5) Create the following figure using the Titanic dataset (included with Seaborn). \n",
    "![](./fig/hm4-3.png)\n",
    "\n",
    "(6) (5) Create the following figure using the Titanic dataset (included with Seaborn). \n",
    "![](./fig/hm4-4.png)\n",
    "\n",
    "(7) (Answer in a markdown cell).  Provide an interpretation of teach of the above graphs, describing what it shows and what it means. (2 sentences each graph).\n",
    "\n"
   ]
  },
  {
   "cell_type": "markdown",
   "metadata": {},
   "source": [
    "### Regular Expressions\n",
    "\n",
    "(8) Fix the text below so that you remove the `</em>` as well, placing the result in due2.  For example, the value for due[0] should equal'Homework 1 Released (Due 9-20)'.  <br>\n",
    "\n",
    "\n",
    "(9) Then process extract the date, such that the value of the list `due3` is equal to the  `['9/20','9/30', '10/5']`."
   ]
  },
  {
   "cell_type": "code",
   "execution_count": 40,
   "metadata": {},
   "outputs": [
    {
     "data": {
      "text/plain": [
       "['Homework 1 Released (Due 9-20)</em>',\n",
       " 'Homework 2 Released (Due 9-30)</em>',\n",
       " 'Homework 3 Released (Due 10-5)</em>',\n",
       " 'Homework 4 (Available 10-4; Due 10-12).</em>']"
      ]
     },
     "execution_count": 40,
     "metadata": {},
     "output_type": "execute_result"
    }
   ],
   "source": [
    "import re\n",
    "due=['<em>Homework 1 Released (Due 9-20)</em>', '<em>Homework 2 Released (Due 9-30)</em>', \n",
    "       '<em>Homework 3 Released (Due 10-5)</em>']\n",
    "due2=[]\n",
    "\n",
    "rembr = re.compile('<em>')\n",
    "\n",
    "\n",
    "for x in soup:\n",
    "    due2.append(rembr.sub('', x))\n",
    "\n",
    "due2"
   ]
  },
  {
   "cell_type": "code",
   "execution_count": 42,
   "metadata": {},
   "outputs": [
    {
     "data": {
      "application/javascript": [
       "$(':has(> #dojo-timer-time)').css(\"background-color\",\"yellow\");"
      ],
      "text/plain": [
       "<IPython.core.display.Javascript object>"
      ]
     },
     "metadata": {},
     "output_type": "display_data"
    },
    {
     "name": "stdout",
     "output_type": "stream",
     "text": [
      "F..FEE\n",
      "======================================================================\n",
      "ERROR: test_webmine1 (__main__.TestHm4)\n",
      "----------------------------------------------------------------------\n",
      "Traceback (most recent call last):\n",
      "  File \"Cell Tests\", line 3, in test_webmine1\n",
      "NameError: name 'result' is not defined\n",
      "\n",
      "======================================================================\n",
      "ERROR: test_webmine2 (__main__.TestHm4)\n",
      "----------------------------------------------------------------------\n",
      "Traceback (most recent call last):\n",
      "  File \"Cell Tests\", line 5, in test_webmine2\n",
      "NameError: name 'result' is not defined\n",
      "\n",
      "======================================================================\n",
      "FAIL: test_regexpress (__main__.TestHm4)\n",
      "----------------------------------------------------------------------\n",
      "Traceback (most recent call last):\n",
      "  File \"Cell Tests\", line 13, in test_regexpress\n",
      "AssertionError: 'Homework 1 Released (Due 9-20)</em>' != 'Homework 1 Released (Due 9-20)'\n",
      "- Homework 1 Released (Due 9-20)</em>\n",
      "?                               -----\n",
      "+ Homework 1 Released (Due 9-20)\n",
      "\n",
      "\n",
      "======================================================================\n",
      "FAIL: test_twitter3 (__main__.TestHm4)\n",
      "----------------------------------------------------------------------\n",
      "Traceback (most recent call last):\n",
      "  File \"Cell Tests\", line 11, in test_twitter3\n",
      "AssertionError: 2 != 3\n",
      "\n",
      "----------------------------------------------------------------------\n",
      "Ran 6 tests in 0.011s\n",
      "\n",
      "FAILED (failures=2, errors=2)\n"
     ]
    },
    {
     "data": {
      "application/javascript": [
       "$(':has(> #dojo-timer-time)').css(\"background-color\",\"salmon\");"
      ],
      "text/plain": [
       "<IPython.core.display.Javascript object>"
      ]
     },
     "metadata": {},
     "output_type": "display_data"
    },
    {
     "data": {
      "text/plain": [
       "<unittest.runner.TextTestResult run=6 errors=2 failures=2>"
      ]
     },
     "execution_count": 42,
     "metadata": {},
     "output_type": "execute_result"
    }
   ],
   "source": [
    "%%unittest_main\n",
    "class TestHm4(unittest.TestCase):\n",
    "    def test_webmine1(self):\n",
    "        self.assertEqual(str(result[0]), \"<em>Homework 1 Released (Due 9-20)</em>\")\n",
    "    def test_webmine2(self):\n",
    "        self.assertEqual(str(result[2]), \"<em>Homework 2 Released (Due 9-30)</em>\")\n",
    "    def test_twitter1(self):\n",
    "        self.assertEqual((urls[0]), \"https://t.co/gxgTGHp5yO\")\n",
    "    def test_twitter2(self):\n",
    "        self.assertEqual(names[1], \"Deep Learning Hub\")\n",
    "    def test_twitter3(self):\n",
    "        self.assertEqual(len(names), 3)\n",
    "    def test_regexpress(self):\n",
    "        self.assertEqual(str(due2[0]), 'Homework 1 Released (Due 9-20)')\n",
    "    def test_regexpress2(self):\n",
    "        self.assertTrue(due3 == ['9/20','9/30', '10/5'])\n"
   ]
  },
  {
   "cell_type": "code",
   "execution_count": null,
   "metadata": {
    "collapsed": true
   },
   "outputs": [],
   "source": []
  }
 ],
 "metadata": {
  "anaconda-cloud": {},
  "celltoolbar": "Slideshow",
  "kernelspec": {
   "display_name": "Python [ad]",
   "language": "python",
   "name": "Python [ad]"
  },
  "language_info": {
   "codemirror_mode": {
    "name": "ipython",
    "version": 3
   },
   "file_extension": ".py",
   "mimetype": "text/x-python",
   "name": "python",
   "nbconvert_exporter": "python",
   "pygments_lexer": "ipython3",
   "version": "3.5.3"
  }
 },
 "nbformat": 4,
 "nbformat_minor": 1
}
